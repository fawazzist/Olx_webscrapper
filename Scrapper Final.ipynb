{
 "cells": [
  {
   "cell_type": "code",
   "execution_count": 23,
   "id": "73a18615",
   "metadata": {},
   "outputs": [],
   "source": [
    "import scrapy\n",
    "from scrapy.crawler import CrawlerProcess\n",
    "import json\n",
    "import csv"
   ]
  },
  {
   "cell_type": "code",
   "execution_count": 24,
   "id": "d37d9457",
   "metadata": {},
   "outputs": [],
   "source": [
    "#if not deleted before running an error occurs already exists\n",
    "import sys     \n",
    "if \"twisted.internet.reactor\" in sys.modules: del sys.modules[\"twisted.internet.reactor\"]"
   ]
  },
  {
   "cell_type": "code",
   "execution_count": null,
   "id": "7edd32b9",
   "metadata": {},
   "outputs": [],
   "source": [
    "class olx(scrapy.Spider):\n",
    "    name = 'olx'\n",
    "    \n",
    "    url = 'https://www.olx.in/api/relevance/v2/search?category=1723&facet_limit=100&lang=en-IN&location=4058877&location_facet_limit=20&platform=web-desktop&size=40'\n",
    "    \n",
    "    headers = {\n",
    "        'user-agent':'Mozilla/5.0 (Windows NT 10.0; Win64; x64) AppleWebKit/537.36 (KHTML, like Gecko) Chrome/92.0.4515.131 Safari/537.36'\n",
    "        #'user-agent':'Mozilla/5.0 (compatible; 008/0.83; http://www.80legs.com/webcrawler.html) Gecko/2008032620'\n",
    "        }\n",
    "    \n",
    "    def __init__(self):\n",
    "        with open('results.csv','w') as csv_file:\n",
    "            csv_file.write('Property_Name,Property_Id,BreadCrumbs,Price,Location,Image_url,Description,Property_Type,Bathrooms,Bedrooms\\n')\n",
    "    \n",
    "    def start_requests(self):\n",
    "        for page in range(0,500):\n",
    "            yield scrapy.Request(url = self.url + '&page=' + str(page), headers = self.headers, callback = self.parse)\n",
    "        \n",
    "    def parse(self, res):\n",
    "        data = res.text\n",
    "        #print(res)\n",
    "        data = json.loads(data)\n",
    "        \n",
    "        \n",
    "        for i in data['data']: # taking from the html key data\n",
    "            items = {\n",
    "                'Property_Name':i['title'],\n",
    "                'Property_Id':i['id'],\n",
    "                'BreadCrumbs': i['parameters'],\n",
    "                'Price':{i['price']['value']['currency']['iso_4217']:i['price']['value']['display']},\n",
    "                'Location': i['locations_resolved']['SUBLOCALITY_LEVEL_1_name'] + ', ' \n",
    "                + i['locations_resolved']['ADMIN_LEVEL_3_name'] + ', ' \n",
    "                + i['locations_resolved']['ADMIN_LEVEL_1_name'],              \n",
    "                'Image_url':i['images'][0]['url'],\n",
    "                'Description': i['description'].strip().replace('\\n',' '),\n",
    "                'Property_Type': i['parameters'][0]['value_name'],\n",
    "                'Bathrooms': i['main_info'].split()[3],\n",
    "                'Bedrooms': i['main_info'].split()[0]\n",
    "                \n",
    "                \n",
    "            }\n",
    "            \n",
    "            with open('results.csv','a',encoding=\"utf-8\") as csv_file:\n",
    "                writer = csv.DictWriter(csv_file, fieldnames = items.keys())\n",
    "                writer.writerow(items)\n",
    "            \n",
    "\n",
    "process = CrawlerProcess()\n",
    "process.crawl(olx)\n",
    "process.start() \n"
   ]
  },
  {
   "cell_type": "code",
   "execution_count": 30,
   "id": "5776ae79",
   "metadata": {},
   "outputs": [],
   "source": [
    "import pandas as pd\n",
    "df = pd.read_csv('results.csv')"
   ]
  },
  {
   "cell_type": "code",
   "execution_count": 58,
   "id": "901ee9e4",
   "metadata": {
    "collapsed": true
   },
   "outputs": [
    {
     "data": {
      "text/plain": [
       "654"
      ]
     },
     "execution_count": 58,
     "metadata": {},
     "output_type": "execute_result"
    }
   ],
   "source": [
    "df2 =df"
   ]
  },
  {
   "cell_type": "code",
   "execution_count": 59,
   "id": "1c07f601",
   "metadata": {},
   "outputs": [
    {
     "data": {
      "text/plain": [
       "['Property_Name',\n",
       " 'Property_Id',\n",
       " 'BreadCrumbs',\n",
       " 'Price',\n",
       " 'Location',\n",
       " 'Image_url',\n",
       " 'Description',\n",
       " 'Property_Type',\n",
       " 'Bathrooms',\n",
       " 'Bedrooms']"
      ]
     },
     "execution_count": 59,
     "metadata": {},
     "output_type": "execute_result"
    }
   ],
   "source": [
    "df.columns.tolist()"
   ]
  },
  {
   "cell_type": "code",
   "execution_count": 60,
   "id": "deb954e4",
   "metadata": {},
   "outputs": [],
   "source": [
    "df2['Bathrooms'] = df2['Bathrooms'].str.replace('4+','4',regex = False)\n",
    "#df2['Bathrooms'].unique()\n",
    "df2['Bedrooms'] = df2['Bathrooms'].str.replace('4+','4',regex = False)\n",
    "#df2['Bedrooms'].unique()"
   ]
  },
  {
   "cell_type": "code",
   "execution_count": 48,
   "id": "ed1a5d17",
   "metadata": {},
   "outputs": [],
   "source": [
    "df['Bathrooms'] = df['Bathrooms'].str.replace('4+','4',regex = False)\n",
    "df['Bedrooms'] = df['Bedrooms'].str.replace('4+','4',regex = False)"
   ]
  },
  {
   "cell_type": "code",
   "execution_count": 69,
   "id": "9f2273bf",
   "metadata": {},
   "outputs": [],
   "source": [
    "df['Bathrooms'] = pd.to_numeric(df['Bathrooms'])\n",
    "df['Bedrooms'] = pd.to_numeric(df['Bedrooms'])"
   ]
  },
  {
   "cell_type": "code",
   "execution_count": 70,
   "id": "96345cec",
   "metadata": {},
   "outputs": [
    {
     "data": {
      "text/plain": [
       "Property_Name    object\n",
       "Property_Id       int64\n",
       "BreadCrumbs      object\n",
       "Price            object\n",
       "Location         object\n",
       "Image_url        object\n",
       "Description      object\n",
       "Property_Type    object\n",
       "Bathrooms         int64\n",
       "Bedrooms          int64\n",
       "dtype: object"
      ]
     },
     "execution_count": 70,
     "metadata": {},
     "output_type": "execute_result"
    }
   ],
   "source": [
    "df.dtypes"
   ]
  },
  {
   "cell_type": "code",
   "execution_count": 71,
   "id": "32997153",
   "metadata": {},
   "outputs": [
    {
     "data": {
      "text/html": [
       "<div>\n",
       "<style scoped>\n",
       "    .dataframe tbody tr th:only-of-type {\n",
       "        vertical-align: middle;\n",
       "    }\n",
       "\n",
       "    .dataframe tbody tr th {\n",
       "        vertical-align: top;\n",
       "    }\n",
       "\n",
       "    .dataframe thead th {\n",
       "        text-align: right;\n",
       "    }\n",
       "</style>\n",
       "<table border=\"1\" class=\"dataframe\">\n",
       "  <thead>\n",
       "    <tr style=\"text-align: right;\">\n",
       "      <th></th>\n",
       "      <th>Property_Name</th>\n",
       "      <th>Property_Id</th>\n",
       "      <th>BreadCrumbs</th>\n",
       "      <th>Price</th>\n",
       "      <th>Location</th>\n",
       "      <th>Image_url</th>\n",
       "      <th>Description</th>\n",
       "      <th>Property_Type</th>\n",
       "      <th>Bathrooms</th>\n",
       "      <th>Bedrooms</th>\n",
       "    </tr>\n",
       "  </thead>\n",
       "  <tbody>\n",
       "    <tr>\n",
       "      <th>0</th>\n",
       "      <td>2 Bedroom Semi Furnished Flat for Rent in East...</td>\n",
       "      <td>1685176475</td>\n",
       "      <td>[{'type': 'single', 'key': 'type', 'value_name...</td>\n",
       "      <td>{'INR': '₹ 15,500'}</td>\n",
       "      <td>East Hill, Kozhikode, Kerala</td>\n",
       "      <td>https://apollo-singapore.akamaized.net:443/v1/...</td>\n",
       "      <td>Please read description completely.   Only gen...</td>\n",
       "      <td>Apartments</td>\n",
       "      <td>2</td>\n",
       "      <td>2</td>\n",
       "    </tr>\n",
       "    <tr>\n",
       "      <th>1</th>\n",
       "      <td>2bhk വീട് കോവൂരിൽ...</td>\n",
       "      <td>1685170315</td>\n",
       "      <td>[{'type': 'single', 'key': 'type', 'value_name...</td>\n",
       "      <td>{'INR': '₹ 13,500'}</td>\n",
       "      <td>Kovoor, Kozhikode, Kerala</td>\n",
       "      <td>https://apollo-singapore.akamaized.net:443/v1/...</td>\n",
       "      <td>2 bhk neat house kovoor mla road...  Pure Well...</td>\n",
       "      <td>Houses &amp; Villas</td>\n",
       "      <td>2</td>\n",
       "      <td>2</td>\n",
       "    </tr>\n",
       "    <tr>\n",
       "      <th>2</th>\n",
       "      <td>House on rent</td>\n",
       "      <td>1685152106</td>\n",
       "      <td>[{'type': 'single', 'key': 'type', 'value_name...</td>\n",
       "      <td>{'INR': '₹ 18,000'}</td>\n",
       "      <td>Malaparamba, Kozhikode, Kerala</td>\n",
       "      <td>https://apollo-singapore.akamaized.net:443/v1/...</td>\n",
       "      <td>An independent double story house near Paroppa...</td>\n",
       "      <td>Houses &amp; Villas</td>\n",
       "      <td>3</td>\n",
       "      <td>3</td>\n",
       "    </tr>\n",
       "    <tr>\n",
       "      <th>3</th>\n",
       "      <td>House for rent</td>\n",
       "      <td>1685137143</td>\n",
       "      <td>[{'type': 'single', 'key': 'type', 'value_name...</td>\n",
       "      <td>{'INR': '₹ 11,000'}</td>\n",
       "      <td>Panniyankara, Kozhikode, Kerala</td>\n",
       "      <td>https://apollo-singapore.akamaized.net:443/v1/...</td>\n",
       "      <td>A house which is convenient for small family. ...</td>\n",
       "      <td>Houses &amp; Villas</td>\n",
       "      <td>2</td>\n",
       "      <td>2</td>\n",
       "    </tr>\n",
       "    <tr>\n",
       "      <th>4</th>\n",
       "      <td>Newly constructed 2BHK Independent Floor</td>\n",
       "      <td>1685126111</td>\n",
       "      <td>[{'type': 'single', 'key': 'type', 'value_name...</td>\n",
       "      <td>{'INR': '₹ 20,000'}</td>\n",
       "      <td>Chalappuram, Kozhikode, Kerala</td>\n",
       "      <td>https://apollo-singapore.akamaized.net:443/v1/...</td>\n",
       "      <td>Proximity to railway station, bus stand and ot...</td>\n",
       "      <td>Apartments</td>\n",
       "      <td>2</td>\n",
       "      <td>2</td>\n",
       "    </tr>\n",
       "  </tbody>\n",
       "</table>\n",
       "</div>"
      ],
      "text/plain": [
       "                                       Property_Name  Property_Id  \\\n",
       "0  2 Bedroom Semi Furnished Flat for Rent in East...   1685176475   \n",
       "1                               2bhk വീട് കോവൂരിൽ...   1685170315   \n",
       "2                                      House on rent   1685152106   \n",
       "3                                     House for rent   1685137143   \n",
       "4           Newly constructed 2BHK Independent Floor   1685126111   \n",
       "\n",
       "                                         BreadCrumbs                Price  \\\n",
       "0  [{'type': 'single', 'key': 'type', 'value_name...  {'INR': '₹ 15,500'}   \n",
       "1  [{'type': 'single', 'key': 'type', 'value_name...  {'INR': '₹ 13,500'}   \n",
       "2  [{'type': 'single', 'key': 'type', 'value_name...  {'INR': '₹ 18,000'}   \n",
       "3  [{'type': 'single', 'key': 'type', 'value_name...  {'INR': '₹ 11,000'}   \n",
       "4  [{'type': 'single', 'key': 'type', 'value_name...  {'INR': '₹ 20,000'}   \n",
       "\n",
       "                          Location  \\\n",
       "0     East Hill, Kozhikode, Kerala   \n",
       "1        Kovoor, Kozhikode, Kerala   \n",
       "2   Malaparamba, Kozhikode, Kerala   \n",
       "3  Panniyankara, Kozhikode, Kerala   \n",
       "4   Chalappuram, Kozhikode, Kerala   \n",
       "\n",
       "                                           Image_url  \\\n",
       "0  https://apollo-singapore.akamaized.net:443/v1/...   \n",
       "1  https://apollo-singapore.akamaized.net:443/v1/...   \n",
       "2  https://apollo-singapore.akamaized.net:443/v1/...   \n",
       "3  https://apollo-singapore.akamaized.net:443/v1/...   \n",
       "4  https://apollo-singapore.akamaized.net:443/v1/...   \n",
       "\n",
       "                                         Description    Property_Type  \\\n",
       "0  Please read description completely.   Only gen...       Apartments   \n",
       "1  2 bhk neat house kovoor mla road...  Pure Well...  Houses & Villas   \n",
       "2  An independent double story house near Paroppa...  Houses & Villas   \n",
       "3  A house which is convenient for small family. ...  Houses & Villas   \n",
       "4  Proximity to railway station, bus stand and ot...       Apartments   \n",
       "\n",
       "   Bathrooms  Bedrooms  \n",
       "0          2         2  \n",
       "1          2         2  \n",
       "2          3         3  \n",
       "3          2         2  \n",
       "4          2         2  "
      ]
     },
     "execution_count": 71,
     "metadata": {},
     "output_type": "execute_result"
    }
   ],
   "source": [
    "df.head(5)"
   ]
  },
  {
   "cell_type": "code",
   "execution_count": 75,
   "id": "4b189d10",
   "metadata": {},
   "outputs": [],
   "source": [
    "df.to_csv(r'Results.csv'., index=False)"
   ]
  },
  {
   "cell_type": "code",
   "execution_count": 76,
   "id": "c9dbb6f4",
   "metadata": {},
   "outputs": [],
   "source": []
  },
  {
   "cell_type": "code",
   "execution_count": null,
   "id": "9d834cb9",
   "metadata": {},
   "outputs": [],
   "source": []
  }
 ],
 "metadata": {
  "kernelspec": {
   "display_name": "Python 3 (ipykernel)",
   "language": "python",
   "name": "python3"
  },
  "language_info": {
   "codemirror_mode": {
    "name": "ipython",
    "version": 3
   },
   "file_extension": ".py",
   "mimetype": "text/x-python",
   "name": "python",
   "nbconvert_exporter": "python",
   "pygments_lexer": "ipython3",
   "version": "3.9.7"
  }
 },
 "nbformat": 4,
 "nbformat_minor": 5
}
